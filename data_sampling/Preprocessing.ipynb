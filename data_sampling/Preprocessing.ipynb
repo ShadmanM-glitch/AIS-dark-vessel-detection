{
 "cells": [
  {
   "cell_type": "code",
   "execution_count": 1,
   "id": "590a7af3",
   "metadata": {},
   "outputs": [],
   "source": [
    "import numpy as np\n",
    "import pandas as pd\n",
    "from sklearn.impute import SimpleImputer\n",
    "from sklearn.model_selection import train_test_split\n",
    "from sklearn.neighbors import KNeighborsClassifier\n",
    "from sklearn.metrics import confusion_matrix"
   ]
  },
  {
   "cell_type": "code",
   "execution_count": 2,
   "id": "91d1bb0b",
   "metadata": {},
   "outputs": [],
   "source": [
    "dt = pd.read_csv(\"AIS_MMSI_sampled.csv\")\n",
    "df = pd.DataFrame(dt)"
   ]
  },
  {
   "cell_type": "code",
   "execution_count": 3,
   "id": "33616420",
   "metadata": {
    "scrolled": true
   },
   "outputs": [
    {
     "data": {
      "text/html": [
       "<div>\n",
       "<style scoped>\n",
       "    .dataframe tbody tr th:only-of-type {\n",
       "        vertical-align: middle;\n",
       "    }\n",
       "\n",
       "    .dataframe tbody tr th {\n",
       "        vertical-align: top;\n",
       "    }\n",
       "\n",
       "    .dataframe thead th {\n",
       "        text-align: right;\n",
       "    }\n",
       "</style>\n",
       "<table border=\"1\" class=\"dataframe\">\n",
       "  <thead>\n",
       "    <tr style=\"text-align: right;\">\n",
       "      <th></th>\n",
       "      <th>MMSI</th>\n",
       "      <th>BaseDateTime</th>\n",
       "      <th>LAT</th>\n",
       "      <th>LON</th>\n",
       "      <th>SOG</th>\n",
       "      <th>COG</th>\n",
       "      <th>Heading</th>\n",
       "      <th>VesselName</th>\n",
       "      <th>IMO</th>\n",
       "      <th>CallSign</th>\n",
       "      <th>VesselType</th>\n",
       "      <th>Status</th>\n",
       "      <th>Length</th>\n",
       "      <th>Width</th>\n",
       "      <th>Draft</th>\n",
       "      <th>Cargo</th>\n",
       "      <th>TransceiverClass</th>\n",
       "    </tr>\n",
       "  </thead>\n",
       "  <tbody>\n",
       "    <tr>\n",
       "      <th>0</th>\n",
       "      <td>368061000</td>\n",
       "      <td>2022-05-22T00:00:01</td>\n",
       "      <td>29.58393</td>\n",
       "      <td>-89.09923</td>\n",
       "      <td>0.0</td>\n",
       "      <td>56.7</td>\n",
       "      <td>53.0</td>\n",
       "      <td>C-CLIPPER</td>\n",
       "      <td>IMO9132167</td>\n",
       "      <td>WCX6887</td>\n",
       "      <td>90.0</td>\n",
       "      <td>0.0</td>\n",
       "      <td>67.0</td>\n",
       "      <td>17.0</td>\n",
       "      <td>4.9</td>\n",
       "      <td>90.0</td>\n",
       "      <td>A</td>\n",
       "    </tr>\n",
       "    <tr>\n",
       "      <th>1</th>\n",
       "      <td>316005713</td>\n",
       "      <td>2022-05-22T00:00:05</td>\n",
       "      <td>49.29760</td>\n",
       "      <td>-123.02928</td>\n",
       "      <td>0.1</td>\n",
       "      <td>166.7</td>\n",
       "      <td>511.0</td>\n",
       "      <td>PACIFIC FORCE</td>\n",
       "      <td>NaN</td>\n",
       "      <td>NaN</td>\n",
       "      <td>52.0</td>\n",
       "      <td>0.0</td>\n",
       "      <td>14.0</td>\n",
       "      <td>7.0</td>\n",
       "      <td>2.6</td>\n",
       "      <td>52.0</td>\n",
       "      <td>A</td>\n",
       "    </tr>\n",
       "    <tr>\n",
       "      <th>2</th>\n",
       "      <td>367357110</td>\n",
       "      <td>2022-05-22T00:00:01</td>\n",
       "      <td>39.08448</td>\n",
       "      <td>-81.76003</td>\n",
       "      <td>0.0</td>\n",
       "      <td>105.5</td>\n",
       "      <td>511.0</td>\n",
       "      <td>PERE MARQUETTE</td>\n",
       "      <td>NaN</td>\n",
       "      <td>WDE4728</td>\n",
       "      <td>31.0</td>\n",
       "      <td>12.0</td>\n",
       "      <td>42.0</td>\n",
       "      <td>10.0</td>\n",
       "      <td>NaN</td>\n",
       "      <td>57.0</td>\n",
       "      <td>A</td>\n",
       "    </tr>\n",
       "    <tr>\n",
       "      <th>3</th>\n",
       "      <td>367781550</td>\n",
       "      <td>2022-05-22T00:00:02</td>\n",
       "      <td>41.40401</td>\n",
       "      <td>-88.21831</td>\n",
       "      <td>5.4</td>\n",
       "      <td>22.4</td>\n",
       "      <td>17.0</td>\n",
       "      <td>GARLAND GASPARD</td>\n",
       "      <td>NaN</td>\n",
       "      <td>WDJ4830</td>\n",
       "      <td>31.0</td>\n",
       "      <td>12.0</td>\n",
       "      <td>NaN</td>\n",
       "      <td>NaN</td>\n",
       "      <td>NaN</td>\n",
       "      <td>31.0</td>\n",
       "      <td>A</td>\n",
       "    </tr>\n",
       "    <tr>\n",
       "      <th>4</th>\n",
       "      <td>368731000</td>\n",
       "      <td>2022-05-22T00:00:00</td>\n",
       "      <td>36.88328</td>\n",
       "      <td>-76.35181</td>\n",
       "      <td>0.0</td>\n",
       "      <td>0.0</td>\n",
       "      <td>511.0</td>\n",
       "      <td>CG FRANK DREW</td>\n",
       "      <td>IMO9177258</td>\n",
       "      <td>NKDL</td>\n",
       "      <td>90.0</td>\n",
       "      <td>5.0</td>\n",
       "      <td>53.0</td>\n",
       "      <td>10.0</td>\n",
       "      <td>2.4</td>\n",
       "      <td>90.0</td>\n",
       "      <td>A</td>\n",
       "    </tr>\n",
       "  </tbody>\n",
       "</table>\n",
       "</div>"
      ],
      "text/plain": [
       "        MMSI         BaseDateTime       LAT        LON  SOG    COG  Heading  \\\n",
       "0  368061000  2022-05-22T00:00:01  29.58393  -89.09923  0.0   56.7     53.0   \n",
       "1  316005713  2022-05-22T00:00:05  49.29760 -123.02928  0.1  166.7    511.0   \n",
       "2  367357110  2022-05-22T00:00:01  39.08448  -81.76003  0.0  105.5    511.0   \n",
       "3  367781550  2022-05-22T00:00:02  41.40401  -88.21831  5.4   22.4     17.0   \n",
       "4  368731000  2022-05-22T00:00:00  36.88328  -76.35181  0.0    0.0    511.0   \n",
       "\n",
       "        VesselName         IMO CallSign  VesselType  Status  Length  Width  \\\n",
       "0        C-CLIPPER  IMO9132167  WCX6887        90.0     0.0    67.0   17.0   \n",
       "1    PACIFIC FORCE         NaN      NaN        52.0     0.0    14.0    7.0   \n",
       "2   PERE MARQUETTE         NaN  WDE4728        31.0    12.0    42.0   10.0   \n",
       "3  GARLAND GASPARD         NaN  WDJ4830        31.0    12.0     NaN    NaN   \n",
       "4    CG FRANK DREW  IMO9177258     NKDL        90.0     5.0    53.0   10.0   \n",
       "\n",
       "   Draft  Cargo TransceiverClass  \n",
       "0    4.9   90.0                A  \n",
       "1    2.6   52.0                A  \n",
       "2    NaN   57.0                A  \n",
       "3    NaN   31.0                A  \n",
       "4    2.4   90.0                A  "
      ]
     },
     "metadata": {},
     "output_type": "display_data"
    }
   ],
   "source": [
    "display(df.head(5))"
   ]
  },
  {
   "cell_type": "code",
   "execution_count": 4,
   "id": "88ced55f",
   "metadata": {},
   "outputs": [],
   "source": [
    "# since we have MMSI we can drop VesselName, and IMO additionally callsign is not required for our algorithm\n",
    "df = df.drop(columns=[\"VesselName\",\"IMO\",\"CallSign\",\"Length\",\"Width\",\"Draft\", \"Cargo\"])"
   ]
  },
  {
   "cell_type": "code",
   "execution_count": 5,
   "id": "af407c00",
   "metadata": {},
   "outputs": [
    {
     "name": "stdout",
     "output_type": "stream",
     "text": [
      "MMSI                      0\n",
      "BaseDateTime              0\n",
      "LAT                       0\n",
      "LON                       0\n",
      "SOG                       0\n",
      "COG                       0\n",
      "Heading                   0\n",
      "VesselType            38904\n",
      "Status              3005730\n",
      "TransceiverClass          0\n",
      "dtype: int64\n"
     ]
    }
   ],
   "source": [
    "print(df.isnull().sum())"
   ]
  },
  {
   "cell_type": "code",
   "execution_count": 6,
   "id": "ff0e9056",
   "metadata": {},
   "outputs": [],
   "source": [
    "status = df.dropna(subset=['Status'])"
   ]
  },
  {
   "cell_type": "code",
   "execution_count": 7,
   "id": "a32d35ef",
   "metadata": {},
   "outputs": [
    {
     "name": "stdout",
     "output_type": "stream",
     "text": [
      "               MMSI         BaseDateTime       LAT        LON   SOG    COG  \\\n",
      "0         368061000  2022-05-22T00:00:01  29.58393  -89.09923   0.0   56.7   \n",
      "1         316005713  2022-05-22T00:00:05  49.29760 -123.02928   0.1  166.7   \n",
      "2         367357110  2022-05-22T00:00:01  39.08448  -81.76003   0.0  105.5   \n",
      "3         367781550  2022-05-22T00:00:02  41.40401  -88.21831   5.4   22.4   \n",
      "4         368731000  2022-05-22T00:00:00  36.88328  -76.35181   0.0    0.0   \n",
      "...             ...                  ...       ...        ...   ...    ...   \n",
      "11467257  303935004  2022-05-13T22:48:50  13.39938  144.84264   5.4   74.8   \n",
      "11467258  303935004  2022-05-13T22:51:11  13.40015  144.84582   7.6   79.3   \n",
      "11467259  303935004  2022-05-13T22:42:31  13.40065  144.84145   2.4  327.0   \n",
      "11467260  303935004  2022-05-13T22:52:30  13.40059  144.84720   3.5   40.3   \n",
      "11467261  219349000  2022-05-13T14:16:19  12.29541  141.76559  14.4  150.9   \n",
      "\n",
      "          Heading  VesselType  Status TransceiverClass  \n",
      "0            53.0        90.0     0.0                A  \n",
      "1           511.0        52.0     0.0                A  \n",
      "2           511.0        31.0    12.0                A  \n",
      "3            17.0        31.0    12.0                A  \n",
      "4           511.0        90.0     5.0                A  \n",
      "...           ...         ...     ...              ...  \n",
      "11467257    511.0        90.0    15.0                A  \n",
      "11467258    511.0        90.0    15.0                A  \n",
      "11467259    511.0        90.0    15.0                A  \n",
      "11467260    511.0        90.0    15.0                A  \n",
      "11467261    150.0        89.0     0.0                A  \n",
      "\n",
      "[8461532 rows x 10 columns]\n"
     ]
    }
   ],
   "source": [
    "print(status)"
   ]
  },
  {
   "cell_type": "code",
   "execution_count": 8,
   "id": "820b3f14",
   "metadata": {},
   "outputs": [
    {
     "name": "stdout",
     "output_type": "stream",
     "text": [
      "MMSI                   0\n",
      "BaseDateTime           0\n",
      "LAT                    0\n",
      "LON                    0\n",
      "SOG                    0\n",
      "COG                    0\n",
      "Heading                0\n",
      "VesselType          4745\n",
      "Status                 0\n",
      "TransceiverClass       0\n",
      "dtype: int64\n"
     ]
    }
   ],
   "source": [
    "print(status.isnull().sum())"
   ]
  },
  {
   "cell_type": "code",
   "execution_count": 9,
   "id": "db7d8ccd",
   "metadata": {},
   "outputs": [],
   "source": [
    "X_features = status.iloc[:,2:7].values\n",
    "Y_features = status.iloc[:,8].values\n",
    "X_train, X_test, Y_train, Y_test = train_test_split(X_features,Y_features, test_size = 0.3, random_state = 101)"
   ]
  },
  {
   "cell_type": "code",
   "execution_count": 10,
   "id": "83c7b31a",
   "metadata": {},
   "outputs": [
    {
     "data": {
      "text/plain": [
       "KNeighborsClassifier(n_neighbors=1)"
      ]
     },
     "execution_count": 10,
     "metadata": {},
     "output_type": "execute_result"
    }
   ],
   "source": [
    "clf = KNeighborsClassifier(n_neighbors = 1).fit(X_train, Y_train)\n",
    "clf.fit(X_train,Y_train)"
   ]
  },
  {
   "cell_type": "code",
   "execution_count": 11,
   "id": "16b1f8d6",
   "metadata": {},
   "outputs": [],
   "source": [
    "pred = clf.predict(X_test)"
   ]
  },
  {
   "cell_type": "code",
   "execution_count": 12,
   "id": "5cc45c70",
   "metadata": {},
   "outputs": [
    {
     "name": "stdout",
     "output_type": "stream",
     "text": [
      "\n",
      "Accuracy Of KNN For The Given Dataset :  0.8848632635534931\n"
     ]
    }
   ],
   "source": [
    "from sklearn.metrics import accuracy_score\n",
    "\n",
    "accuracy = accuracy_score(Y_test,pred)\n",
    "print(\"\\nAccuracy Of KNN For The Given Dataset : \", accuracy)"
   ]
  },
  {
   "cell_type": "code",
   "execution_count": 13,
   "id": "0dbca093",
   "metadata": {},
   "outputs": [],
   "source": [
    "missing_status_values = df.iloc[:,2:7].values"
   ]
  },
  {
   "cell_type": "code",
   "execution_count": 14,
   "id": "df598024",
   "metadata": {},
   "outputs": [],
   "source": [
    "status_predicted =  clf.predict(missing_status_values)"
   ]
  },
  {
   "cell_type": "code",
   "execution_count": 15,
   "id": "eeac0b18",
   "metadata": {},
   "outputs": [],
   "source": [
    "impute_status = pd.Series(status_predicted)"
   ]
  },
  {
   "cell_type": "code",
   "execution_count": 16,
   "id": "102cd619",
   "metadata": {},
   "outputs": [
    {
     "data": {
      "text/plain": [
       "0            0.0\n",
       "1            0.0\n",
       "2           12.0\n",
       "3           12.0\n",
       "4            5.0\n",
       "            ... \n",
       "11467257    15.0\n",
       "11467258    15.0\n",
       "11467259    15.0\n",
       "11467260    15.0\n",
       "11467261     0.0\n",
       "Name: Status, Length: 11467262, dtype: float64"
      ]
     },
     "execution_count": 16,
     "metadata": {},
     "output_type": "execute_result"
    }
   ],
   "source": [
    "df['Status']"
   ]
  },
  {
   "cell_type": "code",
   "execution_count": 17,
   "id": "bfd6a0b2",
   "metadata": {},
   "outputs": [
    {
     "data": {
      "text/plain": [
       "0            0.0\n",
       "1            0.0\n",
       "2           12.0\n",
       "3           12.0\n",
       "4            5.0\n",
       "            ... \n",
       "11467257    15.0\n",
       "11467258    15.0\n",
       "11467259    15.0\n",
       "11467260    15.0\n",
       "11467261     0.0\n",
       "Length: 11467262, dtype: float64"
      ]
     },
     "execution_count": 17,
     "metadata": {},
     "output_type": "execute_result"
    }
   ],
   "source": [
    "impute_status"
   ]
  },
  {
   "cell_type": "code",
   "execution_count": 18,
   "id": "64f248e5",
   "metadata": {
    "scrolled": false
   },
   "outputs": [],
   "source": [
    "df['Status'].fillna(impute_status,inplace= True)"
   ]
  },
  {
   "cell_type": "code",
   "execution_count": 19,
   "id": "e87362f6",
   "metadata": {},
   "outputs": [
    {
     "data": {
      "text/plain": [
       "5.0"
      ]
     },
     "execution_count": 19,
     "metadata": {},
     "output_type": "execute_result"
    }
   ],
   "source": [
    "df.iloc[40,8]"
   ]
  },
  {
   "cell_type": "code",
   "execution_count": 20,
   "id": "230caa60",
   "metadata": {},
   "outputs": [
    {
     "name": "stdout",
     "output_type": "stream",
     "text": [
      "109\n"
     ]
    }
   ],
   "source": [
    "missing_vessel_types = df[df['VesselType'].isnull()]\n",
    "print(missing_vessel_types[\"MMSI\"].nunique())"
   ]
  },
  {
   "cell_type": "code",
   "execution_count": 21,
   "id": "7d7321d6",
   "metadata": {},
   "outputs": [],
   "source": [
    "df= df.dropna()"
   ]
  },
  {
   "cell_type": "code",
   "execution_count": 22,
   "id": "294684e1",
   "metadata": {},
   "outputs": [
    {
     "name": "stdout",
     "output_type": "stream",
     "text": [
      "MMSI                0\n",
      "BaseDateTime        0\n",
      "LAT                 0\n",
      "LON                 0\n",
      "SOG                 0\n",
      "COG                 0\n",
      "Heading             0\n",
      "VesselType          0\n",
      "Status              0\n",
      "TransceiverClass    0\n",
      "dtype: int64\n"
     ]
    }
   ],
   "source": [
    "print(df.isnull().sum())"
   ]
  },
  {
   "cell_type": "code",
   "execution_count": 23,
   "id": "0adf5af2",
   "metadata": {},
   "outputs": [
    {
     "name": "stdout",
     "output_type": "stream",
     "text": [
      "2\n"
     ]
    }
   ],
   "source": [
    "print(df[\"TransceiverClass\"].nunique())"
   ]
  },
  {
   "cell_type": "code",
   "execution_count": 24,
   "id": "241732b5",
   "metadata": {},
   "outputs": [],
   "source": [
    "df['TransceiverClass'] = df['TransceiverClass'].map({\"A\": 1, \"B\": 0})"
   ]
  },
  {
   "cell_type": "code",
   "execution_count": 25,
   "id": "88c861ec",
   "metadata": {},
   "outputs": [],
   "source": [
    "df[['Date', 'Time']] = df['BaseDateTime'].str.split('T', 1, expand=True)"
   ]
  },
  {
   "cell_type": "code",
   "execution_count": 26,
   "id": "3a4f2abd",
   "metadata": {},
   "outputs": [],
   "source": [
    "import datetime as dt"
   ]
  },
  {
   "cell_type": "code",
   "execution_count": 27,
   "id": "28b05c18",
   "metadata": {},
   "outputs": [],
   "source": [
    "df['Date'] = pd.DatetimeIndex(df['Date']).day"
   ]
  },
  {
   "cell_type": "code",
   "execution_count": 28,
   "id": "03831c5c",
   "metadata": {},
   "outputs": [],
   "source": [
    "df['Time (mins)'] = df['Time'].str.split(':').apply(lambda x: int(x[0]) * 60 + int(x[1]) + int(x[2]) / 60)"
   ]
  },
  {
   "cell_type": "code",
   "execution_count": 29,
   "id": "058fc97e",
   "metadata": {},
   "outputs": [],
   "source": [
    "df = df.drop(columns=['BaseDateTime','Time'])"
   ]
  },
  {
   "cell_type": "code",
   "execution_count": 30,
   "id": "7314d27a",
   "metadata": {},
   "outputs": [
    {
     "data": {
      "text/html": [
       "<div>\n",
       "<style scoped>\n",
       "    .dataframe tbody tr th:only-of-type {\n",
       "        vertical-align: middle;\n",
       "    }\n",
       "\n",
       "    .dataframe tbody tr th {\n",
       "        vertical-align: top;\n",
       "    }\n",
       "\n",
       "    .dataframe thead th {\n",
       "        text-align: right;\n",
       "    }\n",
       "</style>\n",
       "<table border=\"1\" class=\"dataframe\">\n",
       "  <thead>\n",
       "    <tr style=\"text-align: right;\">\n",
       "      <th></th>\n",
       "      <th>MMSI</th>\n",
       "      <th>LAT</th>\n",
       "      <th>LON</th>\n",
       "      <th>SOG</th>\n",
       "      <th>COG</th>\n",
       "      <th>Heading</th>\n",
       "      <th>VesselType</th>\n",
       "      <th>Status</th>\n",
       "      <th>TransceiverClass</th>\n",
       "      <th>Date</th>\n",
       "      <th>Time (mins)</th>\n",
       "    </tr>\n",
       "  </thead>\n",
       "  <tbody>\n",
       "    <tr>\n",
       "      <th>0</th>\n",
       "      <td>368061000</td>\n",
       "      <td>29.58393</td>\n",
       "      <td>-89.09923</td>\n",
       "      <td>0.0</td>\n",
       "      <td>56.7</td>\n",
       "      <td>53.0</td>\n",
       "      <td>90.0</td>\n",
       "      <td>0.0</td>\n",
       "      <td>1</td>\n",
       "      <td>22</td>\n",
       "      <td>0.016667</td>\n",
       "    </tr>\n",
       "    <tr>\n",
       "      <th>1</th>\n",
       "      <td>316005713</td>\n",
       "      <td>49.29760</td>\n",
       "      <td>-123.02928</td>\n",
       "      <td>0.1</td>\n",
       "      <td>166.7</td>\n",
       "      <td>511.0</td>\n",
       "      <td>52.0</td>\n",
       "      <td>0.0</td>\n",
       "      <td>1</td>\n",
       "      <td>22</td>\n",
       "      <td>0.083333</td>\n",
       "    </tr>\n",
       "    <tr>\n",
       "      <th>2</th>\n",
       "      <td>367357110</td>\n",
       "      <td>39.08448</td>\n",
       "      <td>-81.76003</td>\n",
       "      <td>0.0</td>\n",
       "      <td>105.5</td>\n",
       "      <td>511.0</td>\n",
       "      <td>31.0</td>\n",
       "      <td>12.0</td>\n",
       "      <td>1</td>\n",
       "      <td>22</td>\n",
       "      <td>0.016667</td>\n",
       "    </tr>\n",
       "    <tr>\n",
       "      <th>3</th>\n",
       "      <td>367781550</td>\n",
       "      <td>41.40401</td>\n",
       "      <td>-88.21831</td>\n",
       "      <td>5.4</td>\n",
       "      <td>22.4</td>\n",
       "      <td>17.0</td>\n",
       "      <td>31.0</td>\n",
       "      <td>12.0</td>\n",
       "      <td>1</td>\n",
       "      <td>22</td>\n",
       "      <td>0.033333</td>\n",
       "    </tr>\n",
       "    <tr>\n",
       "      <th>4</th>\n",
       "      <td>368731000</td>\n",
       "      <td>36.88328</td>\n",
       "      <td>-76.35181</td>\n",
       "      <td>0.0</td>\n",
       "      <td>0.0</td>\n",
       "      <td>511.0</td>\n",
       "      <td>90.0</td>\n",
       "      <td>5.0</td>\n",
       "      <td>1</td>\n",
       "      <td>22</td>\n",
       "      <td>0.000000</td>\n",
       "    </tr>\n",
       "  </tbody>\n",
       "</table>\n",
       "</div>"
      ],
      "text/plain": [
       "        MMSI       LAT        LON  SOG    COG  Heading  VesselType  Status  \\\n",
       "0  368061000  29.58393  -89.09923  0.0   56.7     53.0        90.0     0.0   \n",
       "1  316005713  49.29760 -123.02928  0.1  166.7    511.0        52.0     0.0   \n",
       "2  367357110  39.08448  -81.76003  0.0  105.5    511.0        31.0    12.0   \n",
       "3  367781550  41.40401  -88.21831  5.4   22.4     17.0        31.0    12.0   \n",
       "4  368731000  36.88328  -76.35181  0.0    0.0    511.0        90.0     5.0   \n",
       "\n",
       "   TransceiverClass  Date  Time (mins)  \n",
       "0                 1    22     0.016667  \n",
       "1                 1    22     0.083333  \n",
       "2                 1    22     0.016667  \n",
       "3                 1    22     0.033333  \n",
       "4                 1    22     0.000000  "
      ]
     },
     "execution_count": 30,
     "metadata": {},
     "output_type": "execute_result"
    }
   ],
   "source": [
    "df.head(5)"
   ]
  },
  {
   "cell_type": "code",
   "execution_count": 32,
   "id": "889bb0cb",
   "metadata": {},
   "outputs": [],
   "source": [
    "df.to_csv('Cleaned_AIS_data.csv',index=False)"
   ]
  }
 ],
 "metadata": {
  "kernelspec": {
   "display_name": "Python 3 (ipykernel)",
   "language": "python",
   "name": "python3"
  },
  "language_info": {
   "codemirror_mode": {
    "name": "ipython",
    "version": 3
   },
   "file_extension": ".py",
   "mimetype": "text/x-python",
   "name": "python",
   "nbconvert_exporter": "python",
   "pygments_lexer": "ipython3",
   "version": "3.9.12"
  }
 },
 "nbformat": 4,
 "nbformat_minor": 5
}
